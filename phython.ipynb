{
 "cells": [
  {
   "cell_type": "code",
   "execution_count": 1,
   "id": "f3611355",
   "metadata": {},
   "outputs": [
    {
     "name": "stdout",
     "output_type": "stream",
     "text": [
      "hello world\n"
     ]
    }
   ],
   "source": [
    "print('hello world')"
   ]
  },
  {
   "cell_type": "code",
   "execution_count": 2,
   "id": "4515e056",
   "metadata": {},
   "outputs": [
    {
     "name": "stdout",
     "output_type": "stream",
     "text": [
      "3\n"
     ]
    }
   ],
   "source": [
    "print(108%5)"
   ]
  },
  {
   "cell_type": "code",
   "execution_count": 6,
   "id": "d6eed66e",
   "metadata": {},
   "outputs": [
    {
     "name": "stdout",
     "output_type": "stream",
     "text": [
      "456z\n"
     ]
    },
    {
     "data": {
      "text/plain": [
       "'z'"
      ]
     },
     "execution_count": 6,
     "metadata": {},
     "output_type": "execute_result"
    }
   ],
   "source": [
    "input(456)"
   ]
  },
  {
   "cell_type": "code",
   "execution_count": 12,
   "id": "b8ad2017",
   "metadata": {},
   "outputs": [
    {
     "name": "stdout",
     "output_type": "stream",
     "text": [
      "---회원가입---\n",
      "ID tmd939\n",
      "tmd939님 가입을 환영합니다\n"
     ]
    }
   ],
   "source": [
    "print('---회원가입---')\n",
    "print(input('ID ')+('님 가입을 환영합니다'))"
   ]
  },
  {
   "cell_type": "code",
   "execution_count": 16,
   "id": "534e1d8a",
   "metadata": {},
   "outputs": [
    {
     "name": "stdout",
     "output_type": "stream",
     "text": [
      "우진이의 키는184 나이는26 취미는loltochess입니다\n"
     ]
    }
   ],
   "source": [
    "a='우진'\n",
    "b=184\n",
    "c=26\n",
    "d='loltochess'\n",
    "print('{}이의 키는{} 나이는{} 취미는{}입니다'.format(a,b,c,d))"
   ]
  },
  {
   "cell_type": "code",
   "execution_count": 20,
   "id": "a0f47f42",
   "metadata": {},
   "outputs": [
    {
     "name": "stdout",
     "output_type": "stream",
     "text": [
      "31.41592\n",
      "지름이 10인 윈의 넓이는 31.41592입니다\n"
     ]
    }
   ],
   "source": [
    "p=3.141592\n",
    "d=10\n",
    "result=p*d\n",
    "print(result)\n",
    "print('지름이 {}인 윈의 넓이는 {}입니다'.format(d,result))"
   ]
  },
  {
   "cell_type": "code",
   "execution_count": 25,
   "id": "bb3fffa8",
   "metadata": {},
   "outputs": [
    {
     "name": "stdout",
     "output_type": "stream",
     "text": [
      "반지름은17\n",
      "53.407064000000005\n",
      "지름이 17인 윈의 둘레는 53.407064000000005입니다\n",
      "226.98002200000002\n",
      "지름이 17인 윈의 넓이는 226.98002200000002입니다\n",
      "907.9200880000001\n",
      "지름이 17인 구의 겉넓이는 907.9200880000001입니다\n"
     ]
    }
   ],
   "source": [
    "p=3.141592\n",
    "d=int(input('반지름은'))\n",
    "result1=p*d\n",
    "print(result1)\n",
    "print('지름이 {}인 윈의 둘레는 {}입니다'.format(d,result1))\n",
    "result2=p/4*d**2\n",
    "print(result2)\n",
    "print('지름이 {}인 윈의 넓이는 {}입니다'.format(d,result2))\n",
    "result3=p*d**2\n",
    "print(result3)\n",
    "print('지름이 {}인 구의 겉넓이는 {}입니다'.format(d,result3))"
   ]
  },
  {
   "cell_type": "code",
   "execution_count": 45,
   "id": "8acefe46",
   "metadata": {},
   "outputs": [
    {
     "name": "stdout",
     "output_type": "stream",
     "text": [
      "nameasd'\n",
      "ageasd\n",
      "charactera\n",
      "이름 asd'(asd) a\n"
     ]
    }
   ],
   "source": [
    "name=input('name')\n",
    "age=input('age')\n",
    "character=input('character')\n",
    "print('이름 {}({}) {}'.format(name,age,character))"
   ]
  },
  {
   "cell_type": "code",
   "execution_count": 61,
   "id": "90f6b4c9",
   "metadata": {},
   "outputs": [
    {
     "name": "stdout",
     "output_type": "stream",
     "text": [
      "years2017\n",
      "height175.5\n",
      "2017 년 - 175.5cm\n",
      "2018 년 - 185.5cm\n",
      "2019 년 - 195.5cm\n",
      "2020 년 - 205.5cm\n"
     ]
    }
   ],
   "source": [
    "years=int(input('years'))\n",
    "height=float(input('height'))\n",
    "print('{} 년 - {}cm'.format(years,height))\n",
    "years+=1\n",
    "height+=10\n",
    "print('{} 년 - {}cm'.format(years,height))\n",
    "years+=1\n",
    "height+=10\n",
    "print('{} 년 - {}cm'.format(years,height))\n",
    "years+=1\n",
    "height+=10\n",
    "print('{} 년 - {}cm'.format(years,height))\n",
    "years+=1\n",
    "height+=10"
   ]
  },
  {
   "cell_type": "code",
   "execution_count": 75,
   "id": "987542c4",
   "metadata": {},
   "outputs": [],
   "source": [
    "\n",
    "#result12=(a*1200+b*800+c*2400)"
   ]
  },
  {
   "cell_type": "code",
   "execution_count": 84,
   "id": "55a9a544",
   "metadata": {},
   "outputs": [
    {
     "name": "stdout",
     "output_type": "stream",
     "text": [
      "과자 갯수3\n",
      "라면 갯수3\n",
      "햄 갯수3\n",
      "13200\n",
      "총 금액:13200\n"
     ]
    }
   ],
   "source": [
    "a=int(input('과자 갯수'))\n",
    "b=int(input('라면 갯수'))\n",
    "c=int(input('햄 갯수'))\n",
    "price12=a*1200+b*800+c*2400\n",
    "#price12=a*1200+b*800+c*2400\n",
    "print(int(price12))\n",
    "#price12=a*1200+b*800+c*2400\n",
    "print('총 금액:{}'.format(price12))"
   ]
  },
  {
   "cell_type": "code",
   "execution_count": 4,
   "id": "7d779122",
   "metadata": {},
   "outputs": [
    {
     "name": "stdout",
     "output_type": "stream",
     "text": [
      "구매가능\n"
     ]
    }
   ],
   "source": [
    "age=23\n",
    "if age>19:\n",
    "    print('구매가능')"
   ]
  },
  {
   "cell_type": "code",
   "execution_count": 11,
   "id": "51101a60",
   "metadata": {},
   "outputs": [
    {
     "name": "stdout",
     "output_type": "stream",
     "text": [
      "나이가 어떻게 되세요?22\n",
      "어서오세요\n",
      "감사합니다\n"
     ]
    }
   ],
   "source": [
    "age=int(input('나이가 어떻게 되세요?'))\n",
    "if age<20:\n",
    "    print(20-age,'년 뒤에 오세요')\n",
    "if age>20:\n",
    "    print('어서오세요')\n",
    "print('감사합니다')"
   ]
  },
  {
   "cell_type": "code",
   "execution_count": 21,
   "id": "cd217303",
   "metadata": {},
   "outputs": [
    {
     "name": "stdout",
     "output_type": "stream",
     "text": [
      "물품가50000\n",
      "결제금액은 50000 원 입니다\n"
     ]
    }
   ],
   "source": [
    "price=int(input('물품가'))\n",
    "if price<50000:\n",
    "    print('50000원 이하는 배송 2500이 추가됩니다')\n",
    "    price+=2500\n",
    "print('결제금액은',price,'원 입니다')"
   ]
  },
  {
   "cell_type": "code",
   "execution_count": 23,
   "id": "ca774d31",
   "metadata": {},
   "outputs": [
    {
     "name": "stdout",
     "output_type": "stream",
     "text": [
      "차량번호를 입력하세요35\n",
      "오늘은 홀수번호만 운향가능합니다\n",
      "짝수번호 차들은 돌아가주세요\n"
     ]
    }
   ],
   "source": [
    "date=int(input('오늘은 몇일인가요'))\n",
    "if date%2==0:\n",
    "    print('오늘은 짝수번호만 운향가능합니다')\n",
    "    print('홀수번호 차들은 돌아가주세요')\n",
    "else:\n",
    "    print('오늘은 홀수번호만 운향가능합니다')\n",
    "    print('짝수번호 차들은 돌아가주세요')"
   ]
  },
  {
   "cell_type": "code",
   "execution_count": 28,
   "id": "569c68be",
   "metadata": {},
   "outputs": [
    {
     "name": "stdout",
     "output_type": "stream",
     "text": [
      "나이가 어떻게 되시나요?22\n",
      "성인은 15000입니다\n",
      "금액을 투입해주세요\n",
      "금액10000\n",
      "5000 원 더넣어주세요\n",
      "감사합니다\n"
     ]
    }
   ],
   "source": [
    "age=int(input('나이가 어떻게 되시나요?'))\n",
    "if age>=20:\n",
    "    print('성인은 15000입니다')\n",
    "    price=15000\n",
    "else:\n",
    "    print('미성년자는 6000입니다')\n",
    "    price=6000\n",
    "print('금액을 투입해주세요')\n",
    "price_input=int(input('금액'))\n",
    "if price>price_input:\n",
    "    print(price-price_input,'원 더넣어주세요')\n",
    "elif price==price_input:\n",
    "    print('좋은시간 되세요')\n",
    "else :\n",
    "    print(price_input-price,'원 거슬러 드리겠습니다')\n",
    "print('감사합니다')"
   ]
  },
  {
   "cell_type": "code",
   "execution_count": 38,
   "id": "178202fe",
   "metadata": {},
   "outputs": [
    {
     "name": "stdout",
     "output_type": "stream",
     "text": [
      "물품가격1000\n",
      "구매가격이 부족합니다\n",
      "최종 결제금액은 1000 원입니다\n"
     ]
    }
   ],
   "source": [
    "price=int(input('물품가격'))\n",
    "if price<20000:\n",
    "    print('구매가격이 부족합니다')\n",
    "    if 20000<=price<50000:\n",
    "        print('배송비 2500이 추가됩니다')\n",
    "        price+=2500\n",
    "    if price>50000:\n",
    "        print('무료배송됩니다')\n",
    "print('최종 결제금액은',price,'원입니다')"
   ]
  },
  {
   "cell_type": "code",
   "execution_count": 40,
   "id": "3b96f327",
   "metadata": {},
   "outputs": [
    {
     "name": "stdout",
     "output_type": "stream",
     "text": [
      "1 안녕하세여\n",
      "2 안녕하세여\n",
      "3 안녕하세여\n",
      "4 안녕하세여\n",
      "5 안녕하세여\n"
     ]
    }
   ],
   "source": [
    "for a in [1,2,3,4,5]:\n",
    "    print(a,'안녕하세여')"
   ]
  },
  {
   "cell_type": "code",
   "execution_count": 48,
   "id": "5f5f79a8",
   "metadata": {},
   "outputs": [
    {
     "name": "stdout",
     "output_type": "stream",
     "text": [
      "1 안녕하세여\n",
      "6 안녕하세여\n",
      "11 안녕하세여\n",
      "16 안녕하세여\n"
     ]
    }
   ],
   "source": [
    "for a in range (0,20,5):\n",
    "    print(a+1,'안녕하세여')"
   ]
  },
  {
   "cell_type": "code",
   "execution_count": 52,
   "id": "6bb6b79b",
   "metadata": {},
   "outputs": [
    {
     "name": "stdout",
     "output_type": "stream",
     "text": [
      "1275\n"
     ]
    }
   ],
   "source": [
    "result=0\n",
    "for i in range(1,51):\n",
    "    result+=i\n",
    "print(result)"
   ]
  },
  {
   "cell_type": "code",
   "execution_count": 54,
   "id": "67c93d35",
   "metadata": {},
   "outputs": [
    {
     "name": "stdout",
     "output_type": "stream",
     "text": [
      "몇단4\n",
      "4 x 1 = 4\n",
      "4 x 2 = 8\n",
      "4 x 3 = 12\n",
      "4 x 4 = 16\n",
      "4 x 5 = 20\n",
      "4 x 6 = 24\n",
      "4 x 7 = 28\n",
      "4 x 8 = 32\n",
      "4 x 9 = 36\n"
     ]
    }
   ],
   "source": [
    "num=int(input('몇단'))\n",
    "for i in range(1,10):\n",
    "    print(num,'x',i,'=',i*num)"
   ]
  },
  {
   "cell_type": "code",
   "execution_count": 12,
   "id": "b7c5f5ae",
   "metadata": {
    "scrolled": true
   },
   "outputs": [
    {
     "name": "stdout",
     "output_type": "stream",
     "text": [
      "구구단\n",
      "4x6?24\n"
     ]
    }
   ],
   "source": [
    "print('구구단')\n",
    "import random\n",
    "for i in range(1):\n",
    "    a, b=random.randint(1,9), random.randint(1,9)\n",
    "    input(str(a)+'x'+str(b)+'?')"
   ]
  },
  {
   "cell_type": "code",
   "execution_count": 31,
   "id": "62be511f",
   "metadata": {},
   "outputs": [
    {
     "name": "stdout",
     "output_type": "stream",
     "text": [
      "구구단\n",
      "2x5?1\n",
      "2x5?1\n",
      "땡\n",
      "5x5?1\n",
      "5x5?1\n",
      "땡\n",
      "3x6?1\n",
      "3x6?1\n",
      "땡\n",
      "3x5?1\n",
      "3x5?1\n",
      "땡\n",
      "6x1?1\n",
      "6x1?1\n",
      "땡\n"
     ]
    }
   ],
   "source": [
    "print('구구단')\n",
    "import random\n",
    "for i in range(5):\n",
    "    a, b=random.randint(1,9), random.randint(1,9)\n",
    "    input(str(a)+'x'+str(b)+'?')\n",
    "    if int(input(str(a)+'x'+str(b)+'?'))!=a*b:\n",
    "            print('땡')"
   ]
  },
  {
   "cell_type": "code",
   "execution_count": 40,
   "id": "3281a792",
   "metadata": {},
   "outputs": [
    {
     "name": "stdout",
     "output_type": "stream",
     "text": [
      "1 홀수,2 짝수,3 홀수,4 짝수,5 홀수,6 짝수,7 홀수,8 짝수,9 홀수,10 짝수,11 홀수,12 짝수,13 홀수,14 짝수,15 홀수,16 짝수,17 홀수,18 짝수,19 홀수,20 짝수,21 홀수,22 짝수,23 홀수,24 짝수,25 홀수,26 짝수,27 홀수,28 짝수,29 홀수,30 짝수,"
     ]
    }
   ],
   "source": [
    "for i in range(1,31):\n",
    "    if i%2==1:\n",
    "        print(i,'홀수',end=',')\n",
    "    else:\n",
    "        print(i,'짝수',end=',')"
   ]
  },
  {
   "cell_type": "code",
   "execution_count": 32,
   "id": "b2879efa",
   "metadata": {},
   "outputs": [
    {
     "name": "stdout",
     "output_type": "stream",
     "text": [
      "8x1=?18\n",
      "땡\n",
      "8 x 1 = 8\n",
      "8 x 1 = 8\n",
      "8 x 1 = 8\n",
      "8 x 1 = 8\n",
      "8 x 1 = 8\n"
     ]
    }
   ],
   "source": [
    "import random\n",
    "for i in range(5):\n",
    "    a, b = random.randint(1,9), random.randint(1,9)\n",
    "    answer = input(str(a)+'x'+str(b)+'=?')\n",
    "    answer = int(answer)\n",
    "    if answer != a*b:\n",
    "            print('땡')\n",
    "            for j in range(5):\n",
    "                print(a,'x',b,'=',a*b)\n",
    "    break"
   ]
  },
  {
   "cell_type": "code",
   "execution_count": 50,
   "id": "21b5fa10",
   "metadata": {},
   "outputs": [
    {
     "name": "stdout",
     "output_type": "stream",
     "text": [
      "369 369 369 369\n",
      "1\n",
      "2\n",
      "짝\n",
      "4\n",
      "5\n",
      "\n",
      "땡\n"
     ]
    }
   ],
   "source": [
    "print('369 369 369 369')\n",
    "for i in range(1,101):\n",
    "    say=input()\n",
    "    if '3' in str(i) or '6' in str(i) or '9' in str(i):\n",
    "        if say !=('짝'):\n",
    "            print('땡')\n",
    "            break\n",
    "    else:\n",
    "        if say!=str(i):\n",
    "            print('틀렸습니다')\n",
    "            break"
   ]
  },
  {
   "cell_type": "code",
   "execution_count": 55,
   "id": "2d3f0649",
   "metadata": {},
   "outputs": [
    {
     "name": "stdout",
     "output_type": "stream",
     "text": [
      "10\n",
      "20\n",
      "30\n",
      "40\n",
      "50\n",
      "60\n",
      "70\n",
      "80\n",
      "90\n",
      "100\n"
     ]
    }
   ],
   "source": [
    "for i in range(1,11):\n",
    "    print(i*10)"
   ]
  },
  {
   "cell_type": "code",
   "execution_count": 58,
   "id": "1b326dda",
   "metadata": {},
   "outputs": [
    {
     "name": "stdout",
     "output_type": "stream",
     "text": [
      "1 운동\n",
      "2 운동\n",
      "3 운동\n",
      "4 운동\n",
      "5 휴식\n",
      "6 운동\n",
      "7 운동\n",
      "8 운동\n",
      "9 운동\n",
      "10 휴식\n",
      "11 운동\n",
      "12 운동\n",
      "13 운동\n",
      "14 운동\n"
     ]
    }
   ],
   "source": [
    "for i in range(1,15):\n",
    "    if i%5==0:\n",
    "        print(i,'휴식')\n",
    "    else:\n",
    "        print(i,'운동')"
   ]
  },
  {
   "cell_type": "code",
   "execution_count": 60,
   "id": "d2b405f1",
   "metadata": {},
   "outputs": [
    {
     "name": "stdout",
     "output_type": "stream",
     "text": [
      "name1\n",
      "num1\n",
      "1\n"
     ]
    }
   ],
   "source": [
    "for i in range(5):\n",
    "    a=input('name')\n",
    "    b=input('num')\n",
    "    print(str(a)*int(b))\n",
    "    break"
   ]
  },
  {
   "cell_type": "code",
   "execution_count": 1,
   "id": "ed8bf46c",
   "metadata": {},
   "outputs": [
    {
     "name": "stdout",
     "output_type": "stream",
     "text": [
      "<class 'list'> [1, 2, 3, 4, 5]\n"
     ]
    }
   ],
   "source": [
    "abc=[1,2,3,4,5]\n",
    "print(type(abc),abc)"
   ]
  },
  {
   "cell_type": "code",
   "execution_count": 3,
   "id": "6c81c38a",
   "metadata": {},
   "outputs": [
    {
     "name": "stdout",
     "output_type": "stream",
     "text": [
      "5\n"
     ]
    }
   ],
   "source": [
    "abc=[1,2,3,4,5]\n",
    "print(len(abc))"
   ]
  },
  {
   "cell_type": "code",
   "execution_count": 9,
   "id": "8240d01f",
   "metadata": {},
   "outputs": [
    {
     "name": "stdout",
     "output_type": "stream",
     "text": [
      "a1\n",
      "b2\n",
      "2\n",
      "1\n"
     ]
    }
   ],
   "source": [
    "c=input('a')\n",
    "d=input('b')\n",
    "print(d)\n",
    "print(c)"
   ]
  },
  {
   "cell_type": "code",
   "execution_count": 15,
   "id": "a3eef68d",
   "metadata": {},
   "outputs": [
    {
     "name": "stdout",
     "output_type": "stream",
     "text": [
      "a1\n",
      "1\n",
      "1\n",
      "1\n"
     ]
    }
   ],
   "source": [
    "a=int(input('a'))\n",
    "for i in range(1,4):\n",
    "    print(a)"
   ]
  },
  {
   "cell_type": "code",
   "execution_count": 18,
   "id": "088c0c06",
   "metadata": {},
   "outputs": [
    {
     "name": "stdout",
     "output_type": "stream",
     "text": [
      "1 4\n",
      "2 5\n",
      "3 6\n",
      "4 7\n",
      "5 8\n",
      "6 9\n"
     ]
    }
   ],
   "source": [
    "a=[4,5,6,7,8,9]\n",
    "for i in range(6):\n",
    "    print(i+1,a[i])"
   ]
  },
  {
   "cell_type": "code",
   "execution_count": 20,
   "id": "def683f2",
   "metadata": {},
   "outputs": [
    {
     "name": "stdout",
     "output_type": "stream",
     "text": [
      "[1, 2, 3, 4, 5, 7, '6']\n"
     ]
    }
   ],
   "source": [
    "a=[1,2,3,4,5,7]\n",
    "a.append('6')\n",
    "print(a)"
   ]
  },
  {
   "cell_type": "code",
   "execution_count": 16,
   "id": "8f859cdf",
   "metadata": {},
   "outputs": [
    {
     "name": "stdout",
     "output_type": "stream",
     "text": [
      "오늘은\n",
      "이십오일\n"
     ]
    }
   ],
   "source": [
    "date='오늘은-십이월-이십오일'\n",
    "print(date.split('-')[0])\n",
    "print(date.split('-')[2])"
   ]
  },
  {
   "cell_type": "code",
   "execution_count": 52,
   "id": "1c20efcb",
   "metadata": {},
   "outputs": [
    {
     "name": "stdout",
     "output_type": "stream",
     "text": [
      "좋아하는 나라1\n",
      "좋아하는 나라2\n",
      "좋아하는 나라3\n",
      "좋아하는 나라4\n",
      "좋아하는 나라5\n",
      "데이터 부족\n"
     ]
    }
   ],
   "source": [
    " country=[]\n",
    "#country=좋아하는나라\n",
    "for i in range(5):\n",
    "    country.append(input('좋아하는 나라'))\n",
    "if '프랑스' in country:\n",
    "    print('봉주르')\n",
    "if '독일' in country:\n",
    "    print('구텐탁')\n",
    "else:\n",
    "    print('데이터 부족')"
   ]
  },
  {
   "cell_type": "code",
   "execution_count": 55,
   "id": "9888ca1e",
   "metadata": {},
   "outputs": [
    {
     "name": "stdout",
     "output_type": "stream",
     "text": [
      "데이터 숫자 [94, 94, 93, 87, 82, 81, 74, 72, 71, 61, 56, 54, 54, 47, 46, 46, 43, 41, 39, 37, 34, 24, 10, 8, 7]\n",
      "1 등 94\n",
      "1 등 94\n",
      "3 등 93\n",
      "4 등 87\n",
      "5 등 82\n",
      "6 등 81\n",
      "7 등 74\n",
      "8 등 72\n",
      "9 등 71\n",
      "1 등 94\n",
      "2 등 94\n",
      "3 등 93\n",
      "4 등 87\n",
      "5 등 82\n",
      "6 등 81\n",
      "7 등 74\n",
      "8 등 72\n",
      "9 등 71\n"
     ]
    }
   ],
   "source": [
    "### import random\n",
    "\n",
    "sc=[]\n",
    "for i in range(25):\n",
    "    sc.append(random.randint(0,100))\n",
    "sc.sort(reverse=True)\n",
    "print('데이터 숫자',sc)\n",
    "for s in sc:\n",
    "    if s>=70:\n",
    "        print(sc.index(s)+1,'등',s)\n",
    "for i in range (25):\n",
    "    if sc[i]>=70:\n",
    "        print(i+1,'등',sc[i])"
   ]
  },
  {
   "cell_type": "code",
   "execution_count": 61,
   "id": "08289e7e",
   "metadata": {},
   "outputs": [
    {
     "name": "stdout",
     "output_type": "stream",
     "text": [
      "[1, 2]\n",
      "[4, 5]\n",
      "[7, 8]\n"
     ]
    }
   ],
   "source": [
    "abc=[[1,2,3],[4,5,6],[7,8,9]]\n",
    "for row in abc:\n",
    "    print(row[:2])"
   ]
  },
  {
   "cell_type": "code",
   "execution_count": 12,
   "id": "16bc74f5",
   "metadata": {},
   "outputs": [
    {
     "name": "stdout",
     "output_type": "stream",
     "text": [
      "['역사탐험대', '파이썬', '학습법', '영단어', '여행에세이', '삼국지']\n",
      "[23362, 24037, 15815, 24029, 24895, 15277]\n",
      "여행에세이\n"
     ]
    }
   ],
   "source": [
    "import random\n",
    "book_name=['역사탐험대','파이썬','학습법','영단어','여행에세이','삼국지']\n",
    "book_price=[]\n",
    "for i in range(len(book_name)):\n",
    "    book_price.append(random.randint(15000,25000))\n",
    "print(book_name)\n",
    "print(book_price)\n",
    "ex=max(book_price)\n",
    "op=book_price.index(ex)\n",
    "print(book_name[op])"
   ]
  },
  {
   "cell_type": "code",
   "execution_count": 49,
   "id": "81affae9",
   "metadata": {},
   "outputs": [
    {
     "name": "stdout",
     "output_type": "stream",
     "text": [
      "[1, '라이언']\n",
      "[2, '니니즈']\n",
      "[3, '어피치']\n",
      "[4, '프로도']\n",
      "[5, '네오']\n",
      "['라이언', 956412]\n",
      "['니니즈', 861832]\n",
      "['어피치', 796354]\n",
      "['프로도', 534840]\n",
      "니니즈 65343\n",
      "프로도 329486\n",
      "네오 260471\n",
      "라이언\n",
      "니니즈\n",
      "프로도\n"
     ]
    }
   ],
   "source": [
    "ranking=[[1,'라이언',956412,264553],\n",
    "         [2,'니니즈',861832,927175],\n",
    "         [3,'어피치',796354,593175],\n",
    "         [4,'프로도',534840,864326],\n",
    "         [5,'네오',387896,648367]]\n",
    "for row in ranking:\n",
    "    print(row[:2])\n",
    "for row in ranking:\n",
    "    if row[2]>500000:\n",
    "        print(row[1:3])\n",
    "for row in ranking:\n",
    "    if row[3]>row[2]:\n",
    "        print(row[1],row[3]-row[2])\n",
    "for row in ranking:\n",
    "    if row[2]>800000 or row[3]>800000:\n",
    "        print(row[1])"
   ]
  },
  {
   "cell_type": "code",
   "execution_count": 53,
   "id": "11998672",
   "metadata": {},
   "outputs": [
    {
     "name": "stdout",
     "output_type": "stream",
     "text": [
      "경오\n",
      "빠가\n"
     ]
    }
   ],
   "source": [
    "eng={'경오':'빠가'}\n",
    "print(eng[input()])"
   ]
  },
  {
   "cell_type": "code",
   "execution_count": 60,
   "id": "ce40d619",
   "metadata": {},
   "outputs": [
    {
     "name": "stdout",
     "output_type": "stream",
     "text": [
      "마실 음료는?아아\n",
      "4500\n"
     ]
    }
   ],
   "source": [
    "eng={'아아':4500,'라테':4800,'모카':5000}\n",
    "eat=input('마실 음료는?')\n",
    "print(eng[eat])"
   ]
  },
  {
   "cell_type": "code",
   "execution_count": 64,
   "id": "14fd35eb",
   "metadata": {},
   "outputs": [
    {
     "name": "stdout",
     "output_type": "stream",
     "text": [
      "[{'경오': '빠가'}]\n",
      "추가할 이름은?승연\n",
      "그 친구 별명은?천재\n",
      "dict_keys(['경오', '승연'])\n"
     ]
    }
   ],
   "source": [
    "eng={'경오':'빠가'}\n",
    "print([eng])\n",
    "name=input('추가할 이름은?')\n",
    "cha=input('그 친구 별명은?')\n",
    "eng[name]=cha\n",
    "print(eng.keys())"
   ]
  },
  {
   "cell_type": "code",
   "execution_count": 81,
   "id": "2b2facf2",
   "metadata": {},
   "outputs": [
    {
     "name": "stdout",
     "output_type": "stream",
     "text": [
      "[('휴지', 1500), ('커피', 3000), ('우유', 2600), ('과자', 1000), ('고기', 10000)]\n"
     ]
    }
   ],
   "source": [
    "import operator\n",
    "mart={'과자':1000,'휴지':1500,'커피':3000,'고기':10000,'우유':2600}\n",
    "print(sorted(mart.items(),key=operator.itemgetter(0),reverse=True))"
   ]
  },
  {
   "cell_type": "code",
   "execution_count": 9,
   "id": "049d8c10",
   "metadata": {},
   "outputs": [
    {
     "name": "stdout",
     "output_type": "stream",
     "text": [
      "어떤 학생 점수를 원하시나요??승연\n",
      "100 점 입니다\n"
     ]
    }
   ],
   "source": [
    "midtetm={'승연':100,'재영':90,'우진':80,'완서':70,'원표':60}\n",
    "student=input('어떤 학생 점수를 원하시나요??')\n",
    "if student in midtetm.keys():\n",
    "    print(midtetm[student],'점 입니다')\n",
    "else:\n",
    "    print('그런 학생은 없습니다')"
   ]
  },
  {
   "cell_type": "code",
   "execution_count": 26,
   "id": "f10897a9",
   "metadata": {},
   "outputs": [
    {
     "name": "stdout",
     "output_type": "stream",
     "text": [
      "['재영', '원표', '우진', '완서', '승연']\n"
     ]
    }
   ],
   "source": [
    "midterm={'승연':100,'재영':90,'우진':80,'완서':70,'원표':60}\n",
    "print(sorted(midterm.keys(),reverse=True))"
   ]
  },
  {
   "cell_type": "code",
   "execution_count": 32,
   "id": "9247447e",
   "metadata": {},
   "outputs": [
    {
     "name": "stdout",
     "output_type": "stream",
     "text": [
      "100 90 80 70 60 "
     ]
    }
   ],
   "source": [
    "midterm={'승연':100,'재영':90,'우진':80,'완서':70,'원표':60}\n",
    "for i in midterm.values():\n",
    "    print(i,end=' ',)"
   ]
  },
  {
   "cell_type": "code",
   "execution_count": 46,
   "id": "132e720b",
   "metadata": {},
   "outputs": [
    {
     "name": "stdout",
     "output_type": "stream",
     "text": [
      "승연 100 재영 90 우진 80 완서 70 "
     ]
    }
   ],
   "source": [
    "midterm={'승연':100,'재영':90,'우진':80,'완서':70,'원표':60}\n",
    "for i, v in midterm.items():\n",
    "    if v>=70:\n",
    "        print(i,v,end=' ')\n"
   ]
  },
  {
   "cell_type": "code",
   "execution_count": 34,
   "id": "6626bdaa",
   "metadata": {},
   "outputs": [
    {
     "name": "stdout",
     "output_type": "stream",
     "text": [
      "accosting admission adopt again alibaba all allowed am among any appeared approaching armed arose assemble assembled asses away back bade bags bed before best blindfolded body boiled boiling bottom branches brother brothers brought buried buying by came captain carried carry cassim caused cave chalk chests city civilities climbed closed coat cobbler cogia coin come coming company concluded considerable cottage could counted courtyard cut cutting dagger danced dancing dancing-girl day death deceased delivered destruction detained determined dinner direct disguising dish door down dressed drew drinking drove due dwelt each early ease elder empty entering entertain entrance escape every exactly expected faggots faithfulness family feet felt female filled find fire first flew fond forced forest forget fortune forty found full gained garden gave girdle go gold great guest habit hand hassan hastily have having heard heart herself hid himself horse horsemen horses house however immediately immense instantly invited is itself jar jars job kettle kill kitchen knew lamp large later led length let letting limbs lived load loaded lock lodge looked lying made maintained make man mangled many marked marriage married master may mean men merchandise merchant moment more morgiana morning mules mustapha my named necessary new next night nineteen no not obeyed offered often oil on one open opened opposite ordered other out over own parlor passed perceived persia pieces plunged poor portmanteau possessed possession pot poured preparing presently presents pretended proceeded properly put quarters quite rage ran received removed replied resolved rest return reward robber robbers rock room rose said same saw scheme secret sell sent sesame set several sew shop short shut sir sitting six slave slaves so solemnity some son sons soon sound steam stranger street suburbs sufficient supper table taking ten than these thick thieves thirty-nine thought time times to-night together told took town traced treasures tree troop turning two under until up upon usual valuable ventured very waited walls way wealth welcomed went when where which while who wife will within without wood word yet your "
     ]
    }
   ],
   "source": [
    "story='in a town of persia lived two brothers , sons of a poor man , one named cassim , the other alibaba . cassim , the elder , married a wife with a considerable fortune , and lived at his ease , but the wife of alibaba was as poor as himself . they dwelt in a mean cottage in the suburbs , and he maintained his family by cutting wood . alibaba was in the forest preparing to load his asses with the faggots he had cut , when he saw a troop of horsemen approaching . he hastily climbed a large thick tree , and hid himself among the branches . alibaba counted forty of them , each took a loaded portmanteau from his horse , and turning to the rock , said , open , sesame immediately a door opened , the robbers passed in , when the door shut of itself . in a short time the door opened again , and the robbers came out , who said , shut , sesame . the door instantly closed . alibaba ventured down , and approaching the rock , said , open , sesame . immediately the door flew open . he brought his asses , and took as many bags of gold coin as they could carry . alibaba told his brother the secret of the cave . cassim rose early next morning , and set out with ten mules loaded with great chests . he found the rock , and having said , open sesame , gained admission , where he found more treasures than he expected , which made him forget the word that caused the door to open . presently he heard the sound of horses feet , which he concluded to be the robbers , who instantly put him to death . alibaba drove to the forest , and on entering the cave , he found the body of his brother cut into quarters . he took the quarters , and put them upon one of his asses , and delivered the body to cassim wife . morgiana , a female slave in his brother house , was sent early next morning to a poor cobbler , and gave him two pieces of gold to go with her blindfolded , taking him into the room where the body was lying , bade him sew the mangled limbs together . mustapha obeyed , having received two pieces of gold , and was led blindfolded the same way back . cassim was buried with all due solemnity , and alibaba removed to the house of his deceased brother , of which he took possession . the captain of the troop resolved to find out who possessed the secret of entrance into his cave , and disguising himself , went to the city early one morning , when , accosting the cobbler , he was told of the job he had , who for six pieces of gold , allowed himself to be blindfolded , and traced out the house of cassim , which the robber marked with chalk . buying nineteen mules and thirty-nine large jars , one full of oil , and the rest empty , the captain put a man into each jar , properly armed , and then proceeded to the street where alibaba dwelt . sir , said he , i have brought this oil a great way to sell , as i am quite a stranger , will you let me put my mules into your courtyard , and direct me where i may lodge to-night ? alibaba welcomed the pretended oil merchant , offered him a bed in his own house , and invited his guest in to supper . morgiana , sitting up later that night than usual , her lamp went out . she took her oil pot in her hand , and approaching the first jar , the robber within said is it time , captain ? she replied , no , not yet . so she ran back to the kitchen , and brought out a large kettle , which she filled with oil , set it on a great wood fire , and as soon as it boiled , she went and poured into the jars sufficient of the boiling oil to kill every man within . the captain of the robbers arose to assemble his men . coming to the first jar , he felt the steam of the boiled oil ! he ran hastily to the rest , and found every one of his troop put to death . full of rage , he forced the lock of the door , and made his escape over the walls . without letting any one into the secret , alibaba and morgiana the next night buried the thirty-nine thieves at the bottom of the garden . the captain at length , however , determined to adopt a new scheme for the destruction of alibaba . he removed all the valuable merchandise from the cave to the city , and took a shop exactly opposite to alibaba house . alibaba son went every day to his shop . the pretended cogia hassan soon appeared to be very fond of alibaba son , offered him many presents , and often detained him to dinner . alibaba thought it was necessary to make some return to these civilities , and he invited cogia hassan to supper , morgiana carried in the first dish herself . the moment she looked at cogia hassan , she knew it was the pretended oil merchant . she sent the other slaves into the kitchen , and waited at table herself , and while cogia hassan was drinking , she perceived he had a dagger hid under his coat . she went away , and dressed herself in the habit of a dancing-girl . as soon as she appeared at the parlor door , her master ordered her to come in to entertain his guest with some of her best dancing . morgiana danced several times before the assembled company , until , coming opposite cogia hassan , she drew a dagger from her girdle and plunged it into the robber heart . as a reward for her faithfulness , alibaba gave her in marriage to his son , and at his death put them in possession of his immense wealth .'\n",
    "voca={}\n",
    "word=story.split()\n",
    "for i in word:\n",
    "    if i not in voca:\n",
    "        voca[i]=1\n",
    "    else:\n",
    "        voca[i]+=1\n",
    "\n",
    "meaningless=['.',',','!','?','the','he','and','to','a','of','was','in','had','for','it','that','but','as','with','at','i','into','be','this','me','from','then','him','his','her','she','they','them','you']\n",
    "for k in meaningless:\n",
    "    del voca[k]\n",
    "import operator\n",
    "v=sorted(voca.items(),key=operator.itemgetter(0))\n",
    "for q,e in v:\n",
    "    print(q,end=' ',)"
   ]
  },
  {
   "cell_type": "code",
   "execution_count": 79,
   "id": "b2d0c2ea",
   "metadata": {},
   "outputs": [
    {
     "name": "stdout",
     "output_type": "stream",
     "text": [
      "{'월요알': 'Mon', '화요일': 'Tue', '목요일': 'Thu', '금요일': 'Fri', '토요일': 'Sat', '일요일': 'SUN'}\n"
     ]
    }
   ],
   "source": [
    "day={'월요알':'Mon','화요일':'Tue','수요일':'Wed','목요일':'Thu','금요일':'Fri'}\n",
    "day['토요일']='Sat'\n",
    "day['일요일']='SUN'\n",
    "del day['수요일']\n",
    "print(day)\n"
   ]
  },
  {
   "cell_type": "code",
   "execution_count": 94,
   "id": "6c2dc4ef",
   "metadata": {},
   "outputs": [
    {
     "name": "stdout",
     "output_type": "stream",
     "text": [
      "{'역사대모험': 21000.0, '영단어': 9900.0, '파이썬': 17850.0, '여행에세이': 23100.0, '삼국지': 34650.0}\n"
     ]
    }
   ],
   "source": [
    "book={'역사대모험':20000,\n",
    "     '영단어':9000,\n",
    "     '파이썬':17000,\n",
    "     '여행에세이':22000,\n",
    "     '삼국지':33000}\n",
    "for k,v in book.items():\n",
    "    if v>=15000:\n",
    "        book[k] *=1.05\n",
    "    else:\n",
    "        book[k] *=1.1\n",
    "print(book)"
   ]
  },
  {
   "cell_type": "code",
   "execution_count": 106,
   "id": "0b6dc86d",
   "metadata": {},
   "outputs": [
    {
     "name": "stdout",
     "output_type": "stream",
     "text": [
      "['니니즈', '프로도', '네오', '라이언', '어피치']\n"
     ]
    }
   ],
   "source": [
    "ranking={'라이언':900000\n",
    "        ,'어피치':800000\n",
    "        ,'니니즈':850000\n",
    "        ,'네오':400000\n",
    "        ,'프로도':530000}\n",
    "import operator\n",
    "print(sorted(ranking,key=operator.itemgetter(1)))"
   ]
  },
  {
   "cell_type": "code",
   "execution_count": 31,
   "id": "8ec044d8",
   "metadata": {},
   "outputs": [
    {
     "data": {
      "image/png": "[encoded data removed]",
      "text/plain": [
       "<Figure size 300x200 with 1 Axes>"
      ]
     },
     "metadata": {
      "needs_background": "light"
     },
     "output_type": "display_data"
    }
   ],
   "source": [
    "import matplotlib.pyplot as plt\n",
    "month=['Jan','Feb','Mar','Apr','May']\n",
    "sales=[3,7,3,5,7]\n",
    "plt.figure(dpi=50)\n",
    "plt.rc('font',family='Malgun Gothic')\n",
    "plt.title('월별 실적')\n",
    "plt.plot(month,sales,color='red',label='단위:천 개')\n",
    "plt.legend(loc='lower right')\n",
    "plt.show()"
   ]
  },
  {
   "cell_type": "code",
   "execution_count": 55,
   "id": "31d8718b",
   "metadata": {},
   "outputs": [
    {
     "data": {
      "text/plain": [
       "<function matplotlib.pyplot.show(close=None, block=None)>"
      ]
     },
     "execution_count": 55,
     "metadata": {},
     "output_type": "execute_result"
    },
    {
     "data": {
      "image/png": "[encoded data removed]",
      "text/plain": [
       "<Figure size 600x400 with 1 Axes>"
      ]
     },
     "metadata": {
      "needs_background": "light"
     },
     "output_type": "display_data"
    }
   ],
   "source": [
    "import matplotlib.pyplot as plt\n",
    "month=['jan','Feb','Mar','Apr','May']\n",
    "sales=[2,4,5,8,7]\n",
    "plt.figure(dpi=100)\n",
    "plt.rc('font',family='Malgun Gothic')\n",
    "plt.title('월별 실적')\n",
    "plt.barh(range(2,11,2),sales,color='g',label='단위:천개')\n",
    "plt.legend(loc='lower right')\n",
    "plt.xlabel('월')\n",
    "plt.ylabel('매출')\n",
    "plt.show"
   ]
  },
  {
   "cell_type": "code",
   "execution_count": 24,
   "id": "ee2b3568",
   "metadata": {},
   "outputs": [
    {
     "name": "stdout",
     "output_type": "stream",
     "text": [
      "[9, 4, 3, 7, 6, 2, 8, 2, 2, 3]\n"
     ]
    },
    {
     "data": {
      "image/png": "[encoded data removed]",
      "text/plain": [
       "<Figure size 432x288 with 1 Axes>"
      ]
     },
     "metadata": {
      "needs_background": "light"
     },
     "output_type": "display_data"
    }
   ],
   "source": [
    "import matplotlib.pyplot as plt\n",
    "import random\n",
    "a=[]\n",
    "for i in range(10):\n",
    "    a.append(random.randint(1,10))\n",
    "print(a)\n",
    "plt.hist(a,bins=20)\n",
    "plt.show()"
   ]
  },
  {
   "cell_type": "code",
   "execution_count": 41,
   "id": "6cae1826",
   "metadata": {},
   "outputs": [
    {
     "data": {
      "image/png": "[encoded data removed]",
      "text/plain": [
       "<Figure size 780x520 with 1 Axes>"
      ]
     },
     "metadata": {},
     "output_type": "display_data"
    }
   ],
   "source": [
    "import matplotlib.pyplot as plt\n",
    "bloodtype=['20','10','30','5']\n",
    "plt.figure(dpi=130)\n",
    "plt.rc('font',family='Malgun Gothic')\n",
    "plt.pie(bloodtype,labels=['A','B','O','AB'],autopct='%1.1f%%')\n",
    "plt.show()"
   ]
  },
  {
   "cell_type": "code",
   "execution_count": 23,
   "id": "d5e516c8",
   "metadata": {},
   "outputs": [
    {
     "name": "stdout",
     "output_type": "stream",
     "text": [
      "숫자를 입력하시오24\n",
      "숫자를 입력하시오120\n",
      "[2, 2, 2, 3] [2, 2, 2, 3, 5]\n"
     ]
    },
    {
     "ename": "TypeError",
     "evalue": "unhashable type: 'list'",
     "output_type": "error",
     "traceback": [
      "\u001b[1;31m---------------------------------------------------------------------------\u001b[0m",
      "\u001b[1;31mTypeError\u001b[0m                                 Traceback (most recent call last)",
      "\u001b[1;32m~\\AppData\\Local\\Temp/ipykernel_14284/553111153.py\u001b[0m in \u001b[0;36m<module>\u001b[1;34m\u001b[0m\n\u001b[0;32m     20\u001b[0m         \u001b[0md\u001b[0m\u001b[1;33m=\u001b[0m\u001b[0md\u001b[0m\u001b[1;33m+\u001b[0m\u001b[1;36m1\u001b[0m\u001b[1;33m\u001b[0m\u001b[1;33m\u001b[0m\u001b[0m\n\u001b[0;32m     21\u001b[0m \u001b[0mprint\u001b[0m\u001b[1;33m(\u001b[0m\u001b[0mth1\u001b[0m\u001b[1;33m,\u001b[0m\u001b[0mth2\u001b[0m\u001b[1;33m)\u001b[0m\u001b[1;33m\u001b[0m\u001b[1;33m\u001b[0m\u001b[0m\n\u001b[1;32m---> 22\u001b[1;33m \u001b[1;33m{\u001b[0m\u001b[0mth1\u001b[0m\u001b[1;33m,\u001b[0m\u001b[0mth2\u001b[0m\u001b[1;33m}\u001b[0m\u001b[1;33m\u001b[0m\u001b[1;33m\u001b[0m\u001b[0m\n\u001b[0m\u001b[0;32m     23\u001b[0m \u001b[0mprint\u001b[0m\u001b[1;33m(\u001b[0m\u001b[0mth2\u001b[0m\u001b[1;33m*\u001b[0m\u001b[0mth1\u001b[0m\u001b[1;33m)\u001b[0m\u001b[1;33m\u001b[0m\u001b[1;33m\u001b[0m\u001b[0m\n",
      "\u001b[1;31mTypeError\u001b[0m: unhashable type: 'list'"
     ]
    }
   ],
   "source": [
    "a=int(input('숫자를 입력하시오'))\n",
    "c=int(input('숫자를 입력하시오'))\n",
    "b=2\n",
    "d=2\n",
    "th1=[]\n",
    "th2=[]\n",
    "dir=[]\n",
    "eo=[]\n",
    "while b<=a:\n",
    "    if a%b==0:\n",
    "        th1.append(b)\n",
    "        a=a/b\n",
    "    else:\n",
    "        b=b+1\n",
    "while d<=c:\n",
    "    if c%d==0:\n",
    "        th2.append(d)\n",
    "        c=c/d\n",
    "    else:\n",
    "        d=d+1\n",
    "print(th1,th2)\n",
    "{th1,th2}\n",
    "print(th2*th1)"
   ]
  },
  {
   "cell_type": "code",
   "execution_count": 3,
   "id": "f680dca2",
   "metadata": {},
   "outputs": [
    {
     "name": "stdout",
     "output_type": "stream",
     "text": [
      "숫자를 입력하시오12\n",
      "숫자를 입력하시오34\n",
      "[]\n"
     ]
    }
   ],
   "source": [
    "a=int(input('숫자를 입력하시오'))\n",
    "b=int(input('숫자를 입력하시오'))\n",
    "th1=[]\n",
    "th2=[]\n",
    "dir=[]\n",
    "eo=[]\n",
    "for i in range():\n",
    "    if a%2==0:\n",
    "        a=a/2\n",
    "        \n",
    "    else:\n",
    "        a=a/i\n",
    "        i+=1\n",
    "    \n",
    "    \n",
    "print(th1)"
   ]
  },
  {
   "cell_type": "code",
   "execution_count": 12,
   "id": "11a0be56",
   "metadata": {
    "scrolled": true
   },
   "outputs": [
    {
     "data": {
      "image/png": "[encoded data removed]",
      "text/plain": [
       "<Figure size 600x400 with 1 Axes>"
      ]
     },
     "metadata": {
      "needs_background": "light"
     },
     "output_type": "display_data"
    }
   ],
   "source": [
    "import matplotlib.pyplot as plt\n",
    "kor=[80,20,50,20,10,50,60,30,60]\n",
    "eng=[90,40,60,40,10,30,50,70,90]\n",
    "plt.figure(dpi=100)\n",
    "plt.rc('font',family='malgun Gothic')\n",
    "plt.scatter(kor,eng,color='Magenta',alpha=0.8)\n",
    "plt.xlabel('국어')\n",
    "plt.ylabel('영어')\n",
    "plt.show()"
   ]
  },
  {
   "cell_type": "code",
   "execution_count": 30,
   "id": "09bf8916",
   "metadata": {},
   "outputs": [
    {
     "data": {
      "image/png": "[encoded data removed]",
      "text/plain": [
       "<Figure size 900x600 with 2 Axes>"
      ]
     },
     "metadata": {
      "needs_background": "light"
     },
     "output_type": "display_data"
    }
   ],
   "source": [
    "import matplotlib.pyplot as plt\n",
    "import random\n",
    "height,weight,score=[],[],[]\n",
    "for i in range(100):\n",
    "    height.append(random.randint(100,200))\n",
    "    weight.append(random.randint(20,150))\n",
    "    score.append(random.randint(1,1000))\n",
    "    \n",
    "plt.figure(dpi=150)\n",
    "plt.rc('font',family='malgun Gothic')\n",
    "plt.title('키와 몸무게의 상관 관계')\n",
    "plt.scatter(weight,height,c=height,cmap='RdPu')\n",
    "plt.colorbar(label='체육점수')\n",
    "plt.show()"
   ]
  },
  {
   "cell_type": "code",
   "execution_count": 40,
   "id": "fe727419",
   "metadata": {},
   "outputs": [
    {
     "data": {
      "image/png": "[encoded data removed]",
      "text/plain": [
       "<Figure size 900x600 with 1 Axes>"
      ]
     },
     "metadata": {
      "needs_background": "light"
     },
     "output_type": "display_data"
    }
   ],
   "source": [
    "import matplotlib.pyplot as plt\n",
    "singer=['A','B','C','D','E','F']\n",
    "week1=[48,23,67,48,57,53]\n",
    "week2=[23,75,52,46,67,89]\n",
    "plt.figure(dpi=150)\n",
    "plt.rc('font',family='Malgun Gothic')\n",
    "plt.title('품목별 주간 판매량')\n",
    "plt.plot(singer,week1,label='첫째 주',color='hotpink')\n",
    "plt.plot(singer,week2,label='둘째 주',color='royalblue')\n",
    "plt.legend(loc='lower right')\n",
    "plt.show()"
   ]
  },
  {
   "cell_type": "code",
   "execution_count": 21,
   "id": "caab2107",
   "metadata": {},
   "outputs": [
    {
     "data": {
      "image/png": "[encoded data removed]",
      "text/plain": [
       "<Figure size 900x600 with 1 Axes>"
      ]
     },
     "metadata": {
      "needs_background": "light"
     },
     "output_type": "display_data"
    }
   ],
   "source": [
    "import matplotlib.pyplot as plt\n",
    "week1=[48,23,67,48,57,53]\n",
    "week2=[23,75,52,46,67,89]\n",
    "singer=['A','B','C','D','E','F']\n",
    "plt.figure(dpi=150)\n",
    "plt.rcParams['axes.unicode_minus']=False\n",
    "plt.rc('font',family='Malgun Gothic')\n",
    "plt.title('품목별 주간 판매량')\n",
    "plt.bar(range(1,18,3),week1,label='첫째 주',color='hotpink')\n",
    "plt.bar(range(2,19,3),week2,label='둘째 주',color='royalblue')\n",
    "plt.xticks(range(1,19,3),singer)\n",
    "plt.legend(loc='upper left')\n",
    "plt.show()"
   ]
  },
  {
   "cell_type": "code",
   "execution_count": 48,
   "id": "f4cdf69b",
   "metadata": {},
   "outputs": [
    {
     "data": {
      "image/png": "[encoded data removed]",
      "text/plain": [
       "<Figure size 900x600 with 1 Axes>"
      ]
     },
     "metadata": {
      "needs_background": "light"
     },
     "output_type": "display_data"
    }
   ],
   "source": [
    "import matplotlib.pyplot as plt\n",
    "weekday=[3,2,16,19,9,12,23,16]\n",
    "weekend=[1,7,13,15,19,10,19,12]\n",
    "singer=['A','B','C','D','E','F','G','H']\n",
    "for i in range(len(weekday)):\n",
    "    weekday[i]=-weekday[i]\n",
    "plt.figure(dpi=150)\n",
    "plt.rc('font',family='Malgun Gothic')\n",
    "plt.title('주중/주말 자동차 비교')\n",
    "plt.barh(range(8),weekday,color='crimson',label=('주중 통행량'))\n",
    "plt.barh(range(8),weekend,color='royalblue',label=('주중 통행량'))\n",
    "plt.legend(loc='upper left')\n",
    "plt.show()"
   ]
  },
  {
   "cell_type": "code",
   "execution_count": 48,
   "id": "6927ad28",
   "metadata": {},
   "outputs": [
    {
     "name": "stdout",
     "output_type": "stream",
     "text": [
      "<class 'list'>\n",
      "236\n",
      "['2019-10-12 9:13', '1972753', '본', 'S&', '185', '네이버파이낸셜(주)', '546800', '일시불(A)', '부분취소']\n",
      "['2019-10-12 11:56', '3399357', '본', 'S&', '185', 'GS  샵', '60440', '일시불(A)', '전표매입']\n",
      "['2019-10-13 9:16', '12621902', '본', 'S&', '185', 'G마켓', '91520', 'P(A)', '전표매입']\n",
      "['2019-10-14 1:32', '20726947', '본', 'S&', '185', '11번가', '89810', '일시불(A)', '전표매입']\n",
      "['2019-10-14 7:06', '21234320', '본', 'S&', '185', '네이버파이낸셜(주)', '33600', '일시불(A)', '전표매입']\n",
      "['2019-10-15 23:32', '42229559', '본', 'S&', '185', '네이버파이낸셜(주)', '309600', '일시불(A)', '부분취소']\n",
      "['2019-10-16 8:00', '43433092', '본', 'S&', '185', 'SSG.COM', '61983', '일시불(A)', '부분취소']\n",
      "['2019-10-16 16:04', '48341209', '본', 'S&', '185', '(주)에이랜드 타임스퀘어', '31600', '일시불', '전표매입']\n",
      "['2019-10-17 1:13', '3495922', '본', 'S&', '185', '(주)어패럴컴퍼니', '97000', '일시불(A)', '부분취소']\n",
      "['2019-10-17 20:19', '12252560', '본', 'S&', '185', '(주)곱', '96000', '일시불', '전표매입']\n",
      "['2019-10-17 20:28', '12336385', '본', 'S&', '185', '카카오택시(선승인)', '4200', '일시불', '승인취소']\n",
      "['2019-10-17 20:35', '12421511', '본', 'S&', '185', '카카오페이(택시)', '4200', '일시불', '전표매입']\n",
      "['2019-10-17 22:43', '13427539', '본', 'S&', '185', '포도당', '75000', '일시불', '전표매입']\n",
      "['2019-10-18 9:23', '15400489', '본', 'S&', '185', '에뛰드', '26410', '일시불(A)', '전표매입']\n",
      "['2019-10-18 13:07', '17868166', '본', 'S&', '185', '네이버파이낸셜(주)', '12500', '일시불(A)', '전표매입']\n",
      "['2019-10-18 15:48', '20127779', '본', 'S&', '185', '미니스톱신촌점', '1300', '일시불', '전표매입']\n",
      "['2019-10-19 20:51', '34777756', '본', 'S&', '185', '(주)우아한형제들', '19000', '일시불(A)', '전표매입']\n",
      "['2019-10-20 11:05', '38108397', '본', 'S&', '185', '프렌트립', '55995', '일시불(A)', '부분취소']\n",
      "['2019-10-20 19:41', '43820947', '본', 'S&', '185', '네이버파이낸셜(주)', '118000', '일시불(A)', '전표매입']\n",
      "['2019-10-20 20:41', '44407948', '본', 'S&', '185', '네이버파이낸셜(주)', '269000', '일시불(A)', '전표매입']\n",
      "['2019-10-21 8:02', '47020423', '본', 'S&', '185', 'ZARA', '251000', '02개월(A)', '부분취소']\n",
      "['2019-10-21 9:01', '47382647', '본', 'S&', '185', '네이버파이낸셜(주)', '75600', '일시불(A)', '부분취소']\n",
      "['2019-10-21 19:39', '6113616', '본', 'S&', '185', '스패뉴시청지점', '61800', '일시불', '전표매입']\n",
      "['2019-10-22 0:20', '8465960', '본', 'S&', '185', '네이버파이낸셜(주)', '40900', '일시불(A)', '전표매입']\n",
      "['2019-10-22 19:13', '17401676', '본', 'S&', '185', '티머니 개인택시', '4400', '일시불', '전표매입']\n",
      "['2019-10-23 14:33', '24535790', '본', 'S&', '185', '스타벅스코리아', '10000', '일시불(A)', '전표매입']\n",
      "['2019-10-23 17:11', '26286751', '본', 'S&', '185', '(주)우아한형제들', '21400', '일시불(A)', '전표매입']\n",
      "['2019-10-23 17:15', '26340503', '본', 'S&', '185', '(주)우아한형제들', '63000', '일시불(A)', '전표매입']\n",
      "['2019-10-24 8:14', '31186016', '본', 'S&', '185', '전화결제', '207000', '일시불', '전표매입']\n",
      "['2019-10-24 16:02', '35930752', '본', 'S&', '185', '케이데코(K Deco)', '48000', '일시불(A)', '전표매입']\n",
      "['2019-10-24 17:49', '37165070', '본', 'S&', '185', '씨제이올리브영(주)합정메세나폴', '23200', '일시불', '전표매입']\n",
      "['2019-10-24 20:10', '38877940', '본', 'S&', '185', '타르타르홍대점', '23100', '일시불', '전표매입']\n",
      "['2019-10-25 7:44', '41558471', '본', 'S&', '185', '스타벅스코리아', '10000', '일시불(A)', '전표매입']\n",
      "['2019-10-25 15:36', '46897293', '본', 'S&', '185', '연세내과의원', '50000', '일시불', '전표매입']\n",
      "['2019-10-25 16:51', '47825013', '본', 'S&', '185', '나폴레옹과자점', '5300', '일시불', '전표매입']\n",
      "['2019-10-25 16:58', '47913735', '본', 'S&', '185', '홈플러스익스프레스신촌점', '3990', '일시불', '전표매입']\n",
      "['2019-10-26 14:37', '8869313', '본', 'S&', '185', '(주)우아한형제들', '11900', '일시불(A)', '전표매입']\n",
      "['2019-10-27 1:29', '15016840', '본', 'S&', '185', '(주)신세계면세점 명동점', '112845', 'P(A)', '매출취소']\n",
      "['2019-10-27 1:35', '15039376', '본', 'S&', '185', '(주)신세계면세점 명동점', '161598', '일시불(A)', '매출취소']\n",
      "['2019-10-27 2:46', '15310062', '본', 'S&', '185', '롯데E커머스', '16241', '일시불(A)', '전표매입']\n",
      "['2019-10-27 21:07', '22934855', '본', 'S&', '185', '(주)우아한형제들', '19000', '일시불(A)', '전표매입']\n",
      "['2019-10-28 0:47', '24012675', '본', 'S&', '185', '(주)에스쁘아', '28500', '일시불(A)', '전표매입']\n",
      "['2019-10-28 17:40', '31379051', '본', 'S&', '185', '(주)현대백화점신촌점', '4000', '일시불', '전표매입']\n",
      "['2019-10-28 17:45', '31451703', '본', 'S&', '185', '(주)현대백화점신촌점', '7000', '일시불', '전표매입']\n",
      "['2019-10-28 23:42', '34716749', '본', 'S&', '185', 'SSG.COM', '66046', '일시불(A)', '전표매입']\n",
      "['2019-10-29 13:53', '39300046', '본', 'S&', '185', '네이버파이낸셜(주)', '139500', '일시불(A)', '매출취소']\n",
      "['2019-10-29 15:45', '40504804', '본', 'S&', '185', '네이버파이낸셜(주)', '86300', '일시불(A)', '전표매입']\n",
      "['2019-10-29 18:19', '42323215', '본', 'S&', '185', '네이버파이낸셜(주)', '64900', '일시불(A)', '전표매입']\n",
      "['2019-10-30 7:48', '46227975', '본', 'S&', '185', '스타벅스코리아', '30000', '일시불(A)', '전표매입']\n",
      "['2019-10-30 9:15', '46731698', '본', 'S&', '185', '(주)타임어택', '119600', '일시불(A)', '부분취소']\n",
      "['2019-10-30 16:48', '1931482', '본', 'S&', '185', 'GS25 문래미원점', '1500', '일시불', '전표매입']\n",
      "['2019-10-30 17:06', '2137599', '본', 'S&', '185', '(주)라크라센타본점', '18700', '일시불', '전표매입']\n",
      "['2019-10-31 8:34', '7267988', '본', 'S&', '185', 'G마켓', '110110', '일시불(A)', '전표매입']\n",
      "['2019-10-31 11:14', '8724650', '본', 'S&', '185', '네이버파이낸셜(주)', '116000', '일시불(A)', '부분취소']\n",
      "['2019-10-31 11:37', '8982088', '본', 'S&', '185', 'SSG.COM', '12648', '일시불(A)', '전표매입']\n",
      "['2019-10-31 14:54', '11643826', '본', 'S&', '185', '크로키닷컴', '115700', '일시불(A)', '전표매입']\n",
      "['2019-11-01 9:25', '19059907', '본', 'S&', '185', '네이버파이낸셜(주)', '87500', '일시불(A)', '전표매입']\n",
      "['2019-11-01 16:57', '24226595', '본', 'S&', '185', '(주)이랜드월드영등포타임스퀘어', '100', '일시불', '전표매입']\n",
      "['2019-11-01 17:25', '24582340', '본', 'S&', '185', '네이버파이낸셜(주)', '81540', '일시불(A)', '매출취소']\n",
      "['2019-11-01 19:40', '26341325', '본', 'S&', '185', '빠레뜨한남', '56500', '일시불', '전표매입']\n",
      "['2019-11-01 21:41', '27647884', '본', 'S&', '185', '네이버파이낸셜(주)', '118400', '일시불(A)', '매출취소']\n",
      "['2019-11-01 22:30', '28060829', '본', 'S&', '185', '티머니 개인택시', '4700', '일시불', '전표매입']\n",
      "['2019-11-02 12:14', '31922954', '본', 'S&', '185', '네이버파이낸셜(주)', '262600', '03개월(A)', '부분취소']\n",
      "['2019-11-02 15:53', '34775707', '본', 'S&', '185', '(주)신세계백화점강남점', '278600', '03개월', '전표매입']\n",
      "['2019-11-02 16:45', '35396845', '본', 'S&', '185', '(주)신세계백화점강남점', '55200', '일시불', '전표매입']\n",
      "['2019-11-02 17:18', '35812540', '본', 'S&', '185', '(주)엔터식스패션쇼핑몰 강남점', '26000', '일시불', '전표매입']\n",
      "['2019-11-02 17:41', '36090835', '본', 'S&', '185', '네이버파이낸셜(주)', '163080', '03개월(A)', '전표매입']\n",
      "['2019-11-03 9:00', '41065405', '본', 'S&', '185', '신라면세점', '339125', '03개월(A)', '매출취소']\n",
      "['2019-11-03 12:00', '42177027', '본', 'S&', '185', '어반플랜트', '5000', '일시불', '전표매입']\n",
      "['2019-11-03 12:08', '42264072', '본', 'S&', '185', '어반플랜트', '52000', '일시불', '전표매입']\n",
      "['2019-11-03 17:19', '45820584', '본', 'S&', '185', '곤트란쉐리에 합정점', '7830', '일시불', '전표매입']\n",
      "['2019-11-04 13:27', '3643842', '본', 'S&', '185', '(주)갈라인터내셔널', '68500', '일시불', '전표매입']\n",
      "['2019-11-04 13:43', '3832793', '본', 'S&', '185', '씨제이올리브영(주)신세계', '42020', '일시불', '전표매입']\n",
      "['2019-11-04 13:50', '3902895', '본', 'S&', '185', '카페마마스타임스퀘어점', '16800', '일시불', '전표매입']\n",
      "['2019-11-04 14:13', '4162899', '본', 'S&', '185', '티머니 개인택시', '8100', '일시불', '전표매입']\n",
      "['2019-11-04 14:21', '4250428', '본', 'S&', '185', '연세내과의원', '55200', '03개월', '전표매입']\n",
      "['2019-11-04 15:16', '4845475', '본', 'S&', '185', '조아약국', '2300', '일시불', '전표매입']\n",
      "['2019-11-04 20:29', '8533617', '본', 'S&', '185', '(주)우아한형제들', '36500', '일시불(A)', '승인취소']\n",
      "['2019-11-04 20:36', '8589176', '본', 'S&', '185', '(주)우아한형제들', '33000', '일시불(A)', '전표매입']\n",
      "['2019-11-04 22:17', '9402676', '본', 'S&', '185', '(주)우아한형제들', '15500', '일시불(A)', '전표매입']\n",
      "['2019-11-05 5:03', '10592176', '본', 'S&', '185', '네이버파이낸셜(주)', '131700', '03개월(A)', '전표매입']\n",
      "['2019-11-05 13:42', '14467864', '본', 'S&', '185', '스타벅스코리아', '30000', '일시불(A)', '전표매입']\n",
      "['2019-11-05 17:54', '17273726', '본', 'S&', '185', '(주)현대백화점신촌점', '56000', '03개월', '전표매입']\n",
      "['2019-11-05 18:01', '17344557', '본', 'S&', '185', '(주)현대백화점신촌점', '13200', '일시불', '전표매입']\n",
      "['2019-11-06 0:23', '20554050', '본', 'S&', '185', '씨유신촌제일점', '11500', '일시불', '전표매입']\n",
      "['2019-11-06 9:49', '22221853', '본', 'S&', '185', '롯데역사(주)', '50000', '03개월(A)', '매출취소']\n",
      "['2019-11-06 16:45', '26726698', '본', 'S&', '185', '(주)이마트  신촌점', '32700', '일시불', '전표매입']\n",
      "['2019-11-07 8:00', '31861478', '본', 'S&', '185', '스마일페이 (신라면세점)', '476736', '03개월', '전표매입']\n",
      "['2019-11-07 8:04', '31882369', '본', 'S&', '185', '스마일페이 (신라면세점)', '283053', '03개월', '전표매입']\n",
      "['2019-11-07 9:32', '32425138', '본', 'S&', '185', '(주)디지탈명성텍', '4075', '일시불(A)', '전표매입']\n",
      "['2019-11-07 10:47', '33046597', '본', 'S&', '185', '크로키닷컴', '31480', '일시불(A)', '전표매입']\n",
      "['2019-11-07 11:03', '33188403', '본', 'S&', '185', '네이버파이낸셜(주)', '67450', '03개월(A)', '전표매입']\n",
      "['2019-11-07 16:36', '37083525', '본', 'S&', '185', 'CU 오목교스퀘어점', '1600', '일시불', '전표매입']\n",
      "['2019-11-07 19:32', '39222989', '본', 'S&', '185', '써브웨이 오목교점', '5900', '일시불', '전표매입']\n",
      "['2019-11-08 9:32', '42926057', '본', 'S&', '185', '크로키닷컴', '152430', '03개월(A)', '전표매입']\n",
      "['2019-11-08 15:50', '47051194', '본', 'S&', '185', '갤러리아명품관식품', '4300', '일시불', '전표매입']\n",
      "['2019-11-08 16:10', '47284614', '본', 'S&', '185', '갤러리아명품관식품', '13900', '일시불', '전표매입']\n",
      "['2019-11-08 19:50', '345305', '본', 'S&', '185', '씨제이올리브영(주) 신촌역점', '29600', '일시불', '전표매입']\n",
      "['2019-11-08 20:11', '603408', '본', 'S&', '185', '씨유신촌제일점', '1500', '일시불', '전표매입']\n",
      "['2019-11-09 9:53', '4230990', '본', 'S&', '185', '네이버파이낸셜(주)', '19800', '일시불(A)', '전표매입']\n",
      "['2019-11-09 11:03', '4843716', '본', 'S&', '185', '연세내과의원', '54600', '03개월', '전표매입']\n",
      "['2019-11-09 12:58', '6216778', '본', 'S&', '185', '(주)이마트  신촌점', '49000', '일시불', '전표매입']\n",
      "['2019-11-09 22:02', '12680567', '본', 'S&', '185', '파리바게뜨 (신촌점)', '3000', '일시불', '전표매입']\n",
      "['2019-11-10 8:44', '14615532', '본', 'S&', '185', '(주)다른코스메틱스', '29000', '일시불(A)', '전표매입']\n",
      "['2019-11-10 13:42', '16844684', '본', 'S&', '185', '이유', '285000', '03개월', '전표매입']\n",
      "['2019-11-10 14:33', '17428682', '본', 'S&', '185', '11번가', '61200', '03개월(A)', '전표매입']\n",
      "['2019-11-10 14:40', '17513764', '본', 'S&', '185', '11번가', '100900', '03개월(A)', '승인취소']\n",
      "['2019-11-10 16:29', '18721146', '본', 'S&', '185', '(주)우아한형제들', '17000', '일시불(A)', '전표매입']\n",
      "['2019-11-11 16:50', '33368044', '본', 'S&', '185', '(주)현대백화점신촌점', '62600', '03개월', '전표매입']\n",
      "['2019-11-11 17:02', '33533216', '본', 'S&', '185', '(주)현대백화점신촌점', '16500', '일시불', '전표매입']\n",
      "['2019-11-11 17:12', '33669655', '본', 'S&', '185', '씨제이올리브영(주) 신촌', '9200', '일시불', '전표매입']\n",
      "['2019-11-12 16:30', '45050181', '본', 'S&', '185', '주식회사 아성다이소', '5000', '일시불', '전표매입']\n",
      "['2019-11-12 16:55', '45331823', '본', 'S&', '185', '(주)이마트  신촌점', '48880', '일시불', '전표매입']\n",
      "['2019-11-12 16:56', '45338648', '본', 'S&', '185', '마트온누리약국', '12000', '일시불', '전표매입']\n",
      "['2019-11-13 14:29', '4427817', '본', 'S&', '185', '카카오택시(선승인)', '7100', '일시불', '승인취소']\n",
      "['2019-11-13 14:49', '4644749', '본', 'S&', '185', '카카오페이(택시)', '6800', '일시불', '전표매입']\n",
      "['2019-11-13 19:14', '7557952', '본', 'S&', '185', 'SSG.COM', '30720', '일시불(A)', '전표매입']\n",
      "['2019-11-13 22:51', '9421227', '본', 'S&', '185', 'SSG.COM', '27710', '일시불(A)', '전표매입']\n",
      "['2019-11-14 6:29', '10536576', '본', 'S&', '185', '카카오택시(선승인)', '4900', '일시불', '승인취소']\n",
      "['2019-11-14 6:39', '10556159', '본', 'S&', '185', '카카오페이(택시)', '5000', '일시불', '전표매입']\n",
      "['2019-11-14 17:15', '16330331', '본', 'S&', '185', '카페마마스타임스퀘어점', '14000', '일시불', '전표매입']\n",
      "['2019-11-14 17:48', '16704040', '본', 'S&', '185', '티머니 개인택시', '10100', '일시불', '전표매입']\n",
      "['2019-11-15 9:07', '21453186', '본', 'S&', '185', '스마일페이 (신라면세점)', '218246', '03개월', '전표매입']\n",
      "['2019-11-15 15:01', '25849999', '본', 'S&', '185', '카카오택시(선승인)', '22400', '일시불', '승인취소']\n",
      "['2019-11-15 16:26', '26965842', '본', 'S&', '185', '카카오페이(택시)', '27900', '일시불', '전표매입']\n",
      "['2019-11-15 16:26', '26965954', '본', 'S&', '185', '카카오 T_카카오페이', '1000', '일시불', '전표매입']\n",
      "['2019-11-15 18:02', '28253818', '본', 'S&', '185', '주식회사 아성다이소', '6000', '일시불', '전표매입']\n",
      "['2019-11-15 18:24', '28558377', '본', 'S&', '185', '카카오택시(선승인)', '10400', '일시불', '승인취소']\n",
      "['2019-11-15 19:01', '29079760', '본', 'S&', '185', '카카오페이(택시)', '10400', '일시불', '전표매입']\n",
      "['2019-11-15 19:01', '29089732', '본', 'S&', '185', '카카오 T_카카오페이', '1000', '일시불', '전표매입']\n",
      "['2019-11-16 6:39', '32733158', '본', 'S&', '185', '카카오택시(선승인)', '5800', '일시불', '승인취소']\n",
      "['2019-11-16 6:47', '32751183', '본', 'S&', '185', '카카오페이(택시)', '5600', '일시불', '전표매입']\n",
      "['2019-11-16 19:56', '40629895', '본', 'S&', '185', '밸런스약국', '76000', '일시불', '전표매입']\n",
      "['2019-11-16 20:09', '40790103', '본', 'S&', '185', '씨제이올리브영(주)인천공항제2', '5000', '일시불', '전표매입']\n",
      "['2019-11-16 20:12', '40823919', '본', 'S&', '185', '씨제이올리브영(주)인천공항제2', '8000', '일시불', '전표매입']\n",
      "['2019-11-16 21:24', '41532414', '본', 'S&', '185', '잠바주스 인천공항T2-3호점', '14400', '일시불', '전표매입']\n",
      "['2019-11-22 6:50', '46894909', '본', 'S&', '185', '(주)아워홈푸디움인천공항제2터', '8000', '일시불', '전표매입']\n",
      "['2019-11-22 16:50', '3069484', '본', 'S&', '185', '(주)우아한형제들', '9400', '일시불(A)', '전표매입']\n",
      "['2019-11-22 23:45', '7360042', '본', 'S&', '185', '네이버파이낸셜(주)', '36900', '일시불(A)', '전표매입']\n",
      "['2019-11-23 18:02', '14934439', '본', 'S&', '185', '배스킨라빈스  분당파크타운', '22000', '일시불', '전표매입']\n",
      "['2019-11-24 12:51', '21084634', '본', 'S&', '185', '(주)우아한형제들', '19000', '일시불(A)', '전표매입']\n",
      "['2019-11-24 18:44', '24859012', '본', 'S&', '185', '(주)우아한형제들', '19000', '일시불(A)', '전표매입']\n",
      "['2019-11-25 10:18', '29237334', '본', 'S&', '185', '네이버파이낸셜(주)', '9000', '일시불(A)', '전표매입']\n",
      "['2019-11-25 10:35', '29411879', '본', 'S&', '185', '아모레퍼시픽', '40750', '일시불(A)', '전표매입']\n",
      "['2019-11-25 17:54', '35002218', '본', 'S&', '185', '한살림서울생활협동조합신촌매장', '6650', '일시불', '전표매입']\n",
      "['2019-11-26 16:47', '44911566', '본', 'S&', '185', '씨유신촌제일점', '1200', '일시불', '전표매입']\n",
      "['2019-11-27 10:21', '2509044', '본', 'S&', '185', 'SSG.COM', '61194', '일시불(A)', '전표매입']\n",
      "['2019-11-27 13:06', '4348940', '본', 'S&', '185', '네이버파이낸셜(주)', '27000', '일시불(A)', '전표매입']\n",
      "['2019-11-27 17:11', '7135730', '본', 'S&', '185', '파리크라상 연세세브란스점', '5400', '일시불', '전표매입']\n",
      "['2019-11-27 17:27', '7321690', '본', 'S&', '185', '(주)현대백화점신촌점', '24100', '일시불', '전표매입']\n",
      "['2019-11-28 7:51', '11898101', '본', 'S&', '185', '카카오택시(선승인)', '4900', '일시불', '승인취소']\n",
      "['2019-11-28 8:01', '11944480', '본', 'S&', '185', '카카오페이(택시)', '5300', '일시불', '전표매입']\n",
      "['2019-11-28 13:02', '14699707', '본', 'S&', '185', '한국철도공사 (직승인)', '82600', '일시불', '전표매입']\n",
      "['2019-11-28 13:19', '14931453', '본', 'S&', '185', '(주)인터파크', '160000', '일시불(A)', '전표매입']\n",
      "['2019-11-28 13:42', '15226777', '본', 'S&', '185', '우정사업본부(우체국)', '240', '일시불', '전표매입']\n",
      "['2019-11-28 16:37', '17165208', '본', 'S&', '185', '카페마마스타임스퀘어점', '16800', '일시불', '전표매입']\n",
      "['2019-11-30 9:55', '34353380', '본', 'S&', '185', '네이버파이낸셜(주)', '68500', '일시불(A)', '전표매입']\n",
      "['2019-11-30 17:08', '39409718', '본', 'S&', '185', '(주)우아한형제들', '15000', '일시불(A)', '전표매입']\n",
      "['2019-11-30 20:28', '41814628', '본', 'S&', '185', '네이버파이낸셜(주)', '24000', '일시불(A)', '전표매입']\n",
      "['2019-11-30 21:38', '42479025', '본', 'S&', '185', '네이버파이낸셜(주)', '71500', '02개월(A)', '매출취소']\n",
      "['2019-12-01 13:31', '46780225', '본', 'S&', '185', '(주)스타벅스커피코리아', '20000', '일시불', '전표매입']\n",
      "['2019-12-02 17:04', '9629854', '본', 'S&', '185', '파리바게뜨  양평비즈타워점', '1900', '일시불', '전표매입']\n",
      "['2019-12-02 17:35', '10017633', '본', 'S&', '185', '한살림서울생활협동조합신촌매장', '15450', '일시불', '전표매입']\n",
      "['2019-12-03 16:40', '19622146', '본', 'S&', '185', '(주)이마트  신촌점', '39200', '일시불', '전표매입']\n",
      "['2019-12-04 8:44', '24891378', '본', 'S&', '185', '에프알엘코리아(주)', '35700', '일시불(A)', '전표매입']\n",
      "['2019-12-04 17:03', '29962393', '본', 'S&', '185', '(주)현대백화점신촌점', '5000', '일시불', '전표매입']\n",
      "['2019-12-06 2:09', '44703449', '본', 'S&', '185', '쿠팡', '78200', '일시불', '전표매입']\n",
      "['2019-12-07 20:21', '14018882', '본', 'S&', '185', '(주)우아한형제들', '28500', '일시불(A)', '전표매입']\n",
      "['2019-12-08 14:26', '19438422', '본', 'S&', '185', 'SSG.COM', '47911', '일시불(A)', '부분취소']\n",
      "['2019-12-08 17:18', '21327681', '본', 'S&', '185', '(주)우아한형제들', '29000', '일시불(A)', '전표매입']\n",
      "['2019-12-09 7:31', '25429929', '본', 'S&', '185', 'SSG.COM', '7980', '일시불(A)', '전표매입']\n",
      "['2019-12-09 8:00', '25541112', '본', 'S&', '185', '스타벅스코리아', '10000', '일시불(A)', '전표매입']\n",
      "['2019-12-09 8:43', '25775268', '본', 'S&', '185', '쿠팡', '24840', '일시불', '전표매입']\n",
      "['2019-12-09 20:43', '35256839', '본', 'S&', '185', '네이버파이낸셜(주)', '23900', '일시불(A)', '전표매입']\n",
      "['2019-12-09 23:11', '36263709', '본', 'S&', '185', '㈜젠코스메티코스', '60800', '일시불(A)', '전표매입']\n",
      "['2019-12-10 8:10', '38134812', '본', 'S&', '185', '네이버파이낸셜(주)', '20110', '일시불(A)', '전표매입']\n",
      "['2019-12-11 11:18', '886626', '본', 'S&', '185', '쿠팡', '9300', '일시불', '전표매입']\n",
      "['2019-12-12 16:44', '16892196', '본', 'S&', '185', '(주)이마트  신촌점', '58610', '일시불', '전표매입']\n",
      "['2019-12-13 7:52', '21980740', '본', 'S&', '185', '카카오택시(선승인)', '7300', '일시불', '승인취소']\n",
      "['2019-12-13 8:08', '22053726', '본', 'S&', '185', '카카오 T_카카오페이', '1000', '일시불', '전표매입']\n",
      "['2019-12-13 8:08', '22044855', '본', 'S&', '185', '카카오페이(택시)', '5900', '일시불', '전표매입']\n",
      "['2019-12-13 16:31', '27340852', '본', 'S&', '185', '웃는하루치과', '23000', '일시불', '전표매입']\n",
      "['2019-12-13 16:35', '27387462', '본', 'S&', '185', '(주)파리크라상 쉐이크쉑 AK분당', '14800', '일시불', '전표매입']\n",
      "['2019-12-14 23:07', '42246236', '본', 'S&', '185', 'CU 대구중구문화점', '10700', '일시불', '전표매입']\n",
      "['2019-12-15 12:46', '45370304', '본', 'S&', '185', '(주)스타벅스커피코리아', '20000', '일시불', '전표매입']\n",
      "['2019-12-15 14:23', '46456419', '본', 'S&', '185', '낙영찜갈비', '60000', '일시불', '전표매입']\n",
      "['2019-12-15 14:25', '46492132', '본', 'S&', '185', '카카오페이(택시)7', '9100', '일시불', '승인취소']\n",
      "['2019-12-15 14:42', '46679772', '본', 'S&', '185', '카카오페이(택시)1', '7700', '일시불', '전표매입']\n",
      "['2019-12-15 14:42', '46682268', '본', 'S&', '185', '카카오페이(택시)', '1000', '일시불', '전표매입']\n",
      "['2019-12-15 15:06', '46948142', '본', 'S&', '185', '지에스 25 수성유원지점', '4200', '일시불', '전표매입']\n",
      "['2019-12-15 15:19', '47099080', '본', 'S&', '185', '우즈베이커리카페 수성호수점', '15300', '일시불', '전표매입']\n",
      "['2019-12-15 16:00', '47552954', '본', 'S&', '185', '카카오페이(택시)7', '8200', '일시불', '승인취소']\n",
      "['2019-12-15 16:19', '47771371', '본', 'S&', '185', '카카오페이(택시)1', '8700', '일시불', '전표매입']\n",
      "['2019-12-15 16:19', '47771418', '본', 'S&', '185', '카카오페이(택시)', '1000', '일시불', '전표매입']\n",
      "['2019-12-15 16:38', '47993295', '본', 'S&', '185', '디지비유페이택시개인1', '6300', '일시불', '전표매입']\n",
      "['2019-12-15 17:01', '48248774', '본', 'S&', '185', '코레일유통(주)대구지점', '5700', '일시불', '전표매입']\n",
      "['2019-12-15 17:03', '48276621', '본', 'S&', '185', '코레일유통(주)대구지점', '2800', '일시불', '전표매입']\n",
      "['2019-12-15 18:43', '49423183', '본', 'S&', '185', '네이버파이낸셜(주)', '35800', '일시불(A)', '전표매입']\n",
      "['2019-12-15 19:23', '49858621', '본', 'S&', '185', '티머니 법인택시', '13500', '일시불', '전표매입']\n",
      "['2019-12-16 14:00', '7072237', '본', 'S&', '185', '나폴레옹과자점', '9500', '일시불', '전표매입']\n",
      "['2019-12-16 23:02', '13217210', '본', 'S&', '185', '네이버파이낸셜(주)', '40420', '일시불(A)', '전표매입']\n",
      "['2019-12-17 15:41', '18936173', '본', 'S&', '185', '티머니 법인택시', '3800', '일시불', '전표매입']\n",
      "['2019-12-17 15:55', '19093276', '본', 'S&', '185', '투썸플레이스 교대역점', '5100', '일시불', '전표매입']\n",
      "['2019-12-17 18:08', '20596207', '본', 'S&', '185', '고스트요거트', '4900', '일시불', '전표매입']\n",
      "['2019-12-18 7:58', '24710519', '본', 'S&', '185', '네이버파이낸셜(주)', '15480', '일시불(A)', '전표매입']\n",
      "['2019-12-18 11:36', '26344738', '본', 'S&', '185', '(주)우아한형제들', '12000', '일시불(A)', '전표매입']\n",
      "['2019-12-19 1:58', '35153368', '본', 'S&', '185', '(주)교보문고', '14860', 'P(A)', '전표매입']\n",
      "['2019-12-19 9:49', '36456839', '본', 'S&', '185', '스타벅스코리아', '10000', '일시불(A)', '전표매입']\n",
      "['2019-12-20 11:58', '341738', '본', 'S&', '185', '쉐프조', '7600', '일시불', '전표매입']\n",
      "['2019-12-20 16:06', '3667901', '본', 'S&', '185', '쿠팡', '69490', '일시불', '전표매입']\n",
      "['2019-12-20 22:31', '7967131', '본', 'S&', '185', '(주)우아한형제들', '25200', '일시불(A)', '전표매입']\n",
      "['2019-12-22 16:41', '24582172', '본', 'S&', '185', '나폴레옹과자점', '29000', '일시불', '전표매입']\n",
      "['2019-12-23 17:23', '35860697', '본', 'S&', '185', '(주)이마트  신촌점', '33670', '일시불', '전표매입']\n",
      "['2019-12-23 18:41', '36838559', '본', 'S&', '185', '(주)우아한형제들', '4530', '일시불(A)', '전표매입']\n",
      "['2019-12-23 19:56', '37729305', '본', 'S&', '185', '쿠팡', '19110', '일시불', '전표매입']\n",
      "['2019-12-24 8:09', '40698085', '본', 'S&', '185', '이니시스-정기과금', '100000', '일시불', '전표매입']\n",
      "['2019-12-24 15:22', '45154675', '본', 'S&', '185', '(주)현대백화점신촌점', '15000', '일시불', '전표매입']\n",
      "['2019-12-24 15:50', '45489135', '본', 'S&', '185', '나폴레옹과자점', '8800', '일시불', '전표매입']\n",
      "['2019-12-25 18:27', '9420400', '본', 'S&', '185', '고봉민김밥', '7500', '일시불', '전표매입']\n",
      "['2019-12-25 21:04', '11116608', '본', 'S&', '185', '(주)이마트  신촌점', '43630', '일시불', '전표매입']\n",
      "['2019-12-26 16:09', '18905500', '본', 'S&', '185', '카카오택시(선승인)', '5500', '일시불', '승인취소']\n",
      "['2019-12-26 16:22', '19068903', '본', 'S&', '185', '카카오 T_카카오페이', '1000', '일시불', '전표매입']\n",
      "['2019-12-26 16:22', '19068981', '본', 'S&', '185', '카카오페이(택시)', '4900', '일시불', '전표매입']\n",
      "['2019-12-26 17:13', '19708525', '본', 'S&', '185', '카페마마스타임스퀘어점', '16800', '일시불', '전표매입']\n",
      "['2019-12-27 7:43', '24419930', '본', 'S&', '185', 'SSG.COM', '53961', 'P(A)', '전표매입']\n",
      "['2019-12-27 7:43', '24421361', '본', 'S&', '185', '쿠팡', '9290', '일시불', '전표매입']\n",
      "['2019-12-29 17:53', '955137', '본', 'S&', '185', 'KFC서울타임스퀘어', '14400', '일시불', '전표매입']\n",
      "['2019-12-29 18:20', '1245571', '본', 'S&', '185', '네이버페이', '350676', '03개월', '전표매입']\n",
      "['2019-12-29 18:58', '1654241', '본', 'S&', '185', '네이버페이', '24300', '일시불', '전표매입']\n",
      "['2019-12-29 19:36', '2025722', '본', 'S&', '185', '(주)현대백화점신촌점', '136400', '03개월', '전표매입']\n",
      "['2019-12-30 8:18', '4797509', '본', 'S&', '185', '쿠팡', '46920', '일시불', '전표매입']\n",
      "['2019-12-30 17:59', '11171348', '본', 'S&', '185', '카페마마스  강남역지점', '16800', '일시불', '전표매입']\n",
      "['2019-12-31 12:35', '18054067', '본', 'S&', '185', '(주)현대백화점신촌점', '51502', '일시불', '전표매입']\n",
      "['2019-12-31 12:43', '18170026', '본', 'S&', '185', '(주)현대백화점신촌점', '9200', '일시불', '전표매입']\n",
      "['2019-12-31 12:50', '18277034', '본', 'S&', '185', '(주)현대백화점신촌점', '15000', '일시불', '전표매입']\n",
      "['2019-12-31 14:12', '19443195', '본', 'S&', '185', '쿠팡', '16640', '일시불', '전표매입']\n"
     ]
    }
   ],
   "source": [
    "import csv\n",
    "f=open('card.csv',encoding='utf8')\n",
    "data=csv.reader(f)\n",
    "next(data)\n",
    "data=list(data)\n",
    "print(type(data))\n",
    "print(len(data))\n",
    "for row in data:\n",
    "    print(row)"
   ]
  },
  {
   "cell_type": "code",
   "execution_count": 27,
   "id": "b8edf2a9",
   "metadata": {},
   "outputs": [
    {
     "name": "stdout",
     "output_type": "stream",
     "text": [
      "8174028\n"
     ]
    }
   ],
   "source": [
    "import csv\n",
    "f=open('card.csv',encoding='utf8')\n",
    "data=csv.reader(f)\n",
    "next(data)\n",
    "data=list(data)\n",
    "spend=0\n",
    "for row in data:\n",
    "    payment=int(row[6])\n",
    "    \n",
    "    if row[-1]=='전표매입':\n",
    "        spend+=payment\n",
    "print(spend)"
   ]
  },
  {
   "cell_type": "code",
   "execution_count": 4,
   "id": "92c03fdf",
   "metadata": {},
   "outputs": [
    {
     "data": {
      "image/png": "[encoded data removed]",
      "text/plain": [
       "<Figure size 432x288 with 1 Axes>"
      ]
     },
     "metadata": {
      "needs_background": "light"
     },
     "output_type": "display_data"
    }
   ],
   "source": [
    "import csv\n",
    "f=open('card.csv',encoding='utf8')\n",
    "data=csv.reader(f)\n",
    "next(data)\n",
    "data=list(data)\n",
    "taxi=[0,0,0]\n",
    "food=[0,0,0]\n",
    "for row in data:\n",
    "    if '우아한형제들' in row[5]and row[-1]=='전표매입':\n",
    "        mon=int(row[0].split('-')[1])\n",
    "        payment=int(row[6])\n",
    "        a=mon-10\n",
    "        food[a]+=payment\n",
    "    elif'택시' in row[5]and row[-1]=='전표매입':\n",
    "        mon=int(row[0].split('-')[1])\n",
    "        payment=int(row[6])\n",
    "        a=mon-10\n",
    "        taxi[a]+=payment\n",
    "import matplotlib.pyplot as plt\n",
    "plt.rc('font',family=('Malgun Gothic'))\n",
    "plt.title('택시/배달 웧별이용내역')\n",
    "plt.plot(['10월','11월','12월'],taxi,color='Cyan',label=('택시비'))\n",
    "plt.plot(['10월','11월','12월'],food,color='Magenta',label=('배달비'))\n",
    "plt.legend(loc='lower right')\n",
    "plt.show()"
   ]
  },
  {
   "cell_type": "code",
   "execution_count": 48,
   "id": "67013e77",
   "metadata": {},
   "outputs": [
    {
     "data": {
      "image/png": "[encoded data removed]",
      "text/plain": [
       "<Figure size 900x600 with 1 Axes>"
      ]
     },
     "metadata": {
      "needs_background": "light"
     },
     "output_type": "display_data"
    }
   ],
   "source": [
    "import csv\n",
    "f=open('card.csv',encoding='utf8')\n",
    "data=csv.reader(f)\n",
    "next(data)\n",
    "data=list(data)\n",
    "spending={}\n",
    "for row in data:\n",
    "    if row[-1]=='전표매입':\n",
    "        store, payment=row[-4], int(row[-3])\n",
    "        if store not in spending.keys():\n",
    "            spending[store]=payment\n",
    "        else:\n",
    "            spending[store]+=payment \n",
    "import operator\n",
    "top10=sorted(spending.items(),key=operator.itemgetter(1),reverse=True)[:10]\n",
    "top10_store,top10_amount=[],[]\n",
    "for i in top10:\n",
    "    top10_store.append(i[0])\n",
    "    top10_amount.append(i[1])\n",
    "import matplotlib.pyplot as plt\n",
    "plt.figure(dpi=150)\n",
    "plt.rc('font',family='Malgun Gothic')\n",
    "plt.title('10~12월 월별지출 top 10')\n",
    "plt.barh(top10_store,top10_amount,color='b')\n",
    "plt.show()"
   ]
  },
  {
   "cell_type": "code",
   "execution_count": 81,
   "id": "a5e89874",
   "metadata": {},
   "outputs": [
    {
     "name": "stdout",
     "output_type": "stream",
     "text": [
      "3245797\n"
     ]
    }
   ],
   "source": [
    "import csv\n",
    "f=open('card.csv',encoding='utf8')\n",
    "data=csv.reader(f)\n",
    "next(data)\n",
    "data=list(data)\n",
    "amount=[]\n",
    "cancel=[]\n",
    "a=0\n",
    "for row in data:\n",
    "    if row[-1]=='전표매입':\n",
    "        payment=int(row[-3])\n",
    "        amount.append(payment)\n",
    "    else:\n",
    "        payment=int(row[-3])\n",
    "        cancel.append(payment)\n",
    "        for i in range(len(cancel):\n",
    "            a+=int(cancel[i])\n",
    "print(a)"
   ]
  },
  {
   "cell_type": "code",
   "execution_count": 80,
   "id": "e39c00cf",
   "metadata": {},
   "outputs": [
    {
     "name": "stdout",
     "output_type": "stream",
     "text": [
      "3245797\n"
     ]
    }
   ],
   "source": [
    "import csv\n",
    "f=open('card.csv',encoding='utf8')\n",
    "data=csv.reader(f)\n",
    "next(data)\n",
    "data=list(data)\n",
    "cancel=0\n",
    "for row in data:\n",
    "    if row[-1]!='전표매입':\n",
    "        cancel+=int(row[-3])\n",
    "print(cancel)"
   ]
  },
  {
   "cell_type": "code",
   "execution_count": 84,
   "id": "c6022d92",
   "metadata": {},
   "outputs": [
    {
     "name": "stdout",
     "output_type": "stream",
     "text": [
      "20\n"
     ]
    }
   ],
   "source": [
    "cancel=[2,3,4,5,6]\n",
    "a=0\n",
    "for i in range(len(cancel)):\n",
    "    a+=int(cancel[i])\n",
    "print(a)"
   ]
  },
  {
   "cell_type": "code",
   "execution_count": 1,
   "id": "802c1756",
   "metadata": {
    "scrolled": true
   },
   "outputs": [
    {
     "name": "stdout",
     "output_type": "stream",
     "text": [
      "[11000, 506200, 232102]\n"
     ]
    },
    {
     "data": {
      "image/png": "[encoded data removed]",
      "text/plain": [
       "<Figure size 900x600 with 1 Axes>"
      ]
     },
     "metadata": {
      "needs_background": "light"
     },
     "output_type": "display_data"
    }
   ],
   "source": [
    "import csv\n",
    "f=open('card.csv',encoding='utf8')\n",
    "data=csv.reader(f)\n",
    "next(data)\n",
    "data=list(data)\n",
    "month=[0,0,0]\n",
    "for row in data:\n",
    "    if '백화점' in row[5]:\n",
    "        mon=row[0].split('-')[1]\n",
    "        payment=int(row[-3])\n",
    "        a=int(mon)-10\n",
    "        month[a]+=payment\n",
    "print(month)\n",
    "import matplotlib.pyplot as plt\n",
    "plt.figure(dpi=150)\n",
    "plt.rc('font',family='Malgun Gothic')\n",
    "plt.title('10~12월 백화점 지출액')\n",
    "plt.plot(['10월','11월','12월'],month,color='Magenta',label=('만원'))\n",
    "plt.legend(loc='lower right')\n",
    "plt.show()"
   ]
  },
  {
   "cell_type": "code",
   "execution_count": 4,
   "id": "e0511ac5",
   "metadata": {},
   "outputs": [
    {
     "name": "stdout",
     "output_type": "stream",
     "text": [
      "hi!\n",
      "my name is kim seung yeon!\n"
     ]
    }
   ],
   "source": [
    "def soultion():\n",
    "    print('hi!')\n",
    "    print('my name is kim seung yeon!')\n",
    "soultion()"
   ]
  },
  {
   "cell_type": "code",
   "execution_count": 7,
   "id": "155f7989",
   "metadata": {},
   "outputs": [
    {
     "name": "stdout",
     "output_type": "stream",
     "text": [
      "처음숫자:12\n",
      "다음숫자:32\n"
     ]
    },
    {
     "data": {
      "text/plain": [
       "44"
      ]
     },
     "execution_count": 7,
     "metadata": {},
     "output_type": "execute_result"
    }
   ],
   "source": [
    "def plus(num1,num2):\n",
    "    result=num1+num2\n",
    "    return result\n",
    "plus(int(input('처음숫자:')),int(input('다음숫자:')))"
   ]
  },
  {
   "cell_type": "code",
   "execution_count": 1,
   "id": "75542012",
   "metadata": {},
   "outputs": [
    {
     "name": "stdout",
     "output_type": "stream",
     "text": [
      "12\n",
      "32\n",
      "44\n"
     ]
    }
   ],
   "source": [
    "def plus(num1,num2):\n",
    "    result=num1+num2\n",
    "    return result\n",
    "a,b=int(input()),int(input())\n",
    "print(plus(a,b))"
   ]
  },
  {
   "cell_type": "code",
   "execution_count": null,
   "id": "7c9e2505",
   "metadata": {},
   "outputs": [],
   "source": []
  }
 ],
 "metadata": {
  "kernelspec": {
   "display_name": "Python 3 (ipykernel)",
   "language": "python",
   "name": "python3"
  },
  "language_info": {
   "codemirror_mode": {
    "name": "ipython",
    "version": 3
   },
   "file_extension": ".py",
   "mimetype": "text/x-python",
   "name": "python",
   "nbconvert_exporter": "python",
   "pygments_lexer": "ipython3",
   "version": "3.9.7"
  }
 },
 "nbformat": 4,
 "nbformat_minor": 5
}
